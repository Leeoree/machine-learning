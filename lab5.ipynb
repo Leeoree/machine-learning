{
 "cells": [
  {
   "cell_type": "markdown",
   "id": "74c184e2-f7b2-4c6d-b78a-77a91b646aad",
   "metadata": {},
   "source": [
    "# Лабораторная работа №5. Сверточные нейронные сети\n",
    "\n",
    "В данной лабораторной работе рассматривается решение задачи классификации посредством свёрточных нейронных сетей.\n",
    "Для построения сетей предлагается использовать [Keras](https://keras.io) на базе [TensorFlow](https://www.tensorflow.org)."
   ]
  },
  {
   "cell_type": "code",
   "execution_count": null,
   "id": "a95b529e-54a2-4ae2-a8cb-a0416cbf7c14",
   "metadata": {},
   "outputs": [],
   "source": [
    "import numpy as np\n",
    "import matplotlib as mpl\n",
    "import matplotlib.pyplot as plt\n",
    "import tensorflow as tf\n",
    "import tensorflow.keras\n",
    "import sklearn as sk\n",
    "import sklearn.datasets\n",
    "import sklearn.model_selection\n",
    "\n",
    "mpl.rcParams['axes.grid'] = True\n",
    "\n",
    "print(\"tensorflow =\", tf.__version__, \"keras =\", tf.keras.__version__)\n",
    "if tuple(map(int, tf.__version__.split('.'))) < (2, 5, 0):\n",
    "    tf.autograph.set_verbosity(0)\n",
    "    import logging\n",
    "    logging.getLogger(\"tensorflow\").setLevel(logging.ERROR)"
   ]
  },
  {
   "cell_type": "markdown",
   "id": "aa4cf21e-47fb-4f26-a894-ecb7c76ee3d3",
   "metadata": {},
   "source": [
    "## Задание №1\n",
    "\n",
    "Загрузите датасет MNIST с помощью вызова `tf.keras.datasets.mnist.load_data()`.\n",
    "Промасштабируйте обучающую и тестовую выборки, чтобы входные значения лежали в отрезке $[0; 1]$."
   ]
  },
  {
   "cell_type": "code",
   "execution_count": null,
   "id": "56bda162-f9b2-428c-a53d-21a8085de7b6",
   "metadata": {},
   "outputs": [],
   "source": [
    "(x_train, y_train), (x_test, y_test) = tf.keras.datasets.mnist.load_data()\n",
    "\n",
    "???\n",
    "\n",
    "print(x_train.dtype, x_train.shape, y_train.shape)\n",
    "assert x_train.dtype == np.float32 and x_test.dtype == np.float32, 'Неправильный тип входных данных'\n",
    "assert x_train.shape[1:] == (28, 28, 1) and x_test.shape[1:] == (28, 28, 1), 'Неправильная размерность входных данных'\n",
    "assert (x_train <= 1).all() and (x_test <= 1).all(), 'Неправильный диапазон входных данных'"
   ]
  },
  {
   "cell_type": "markdown",
   "id": "9b32b36c-968a-4e19-8bf7-d92d554ead1b",
   "metadata": {},
   "source": [
    "Изучите приведённую ниже сеть с архитектурой:\n",
    "\n",
    "1. Свёточный слой с 16 фильтрами размера $3\\times3$ и функцией активации relu\n",
    "1. Слой MaxPooling с размером шага 2\n",
    "1. Свёточный слой с 32 фильтрами размера $3\\times3$ и функцией активации relu\n",
    "1. Слой MaxPooling с размером шага 2\n",
    "1. Свёточный слой с 64 фильтрами размера $3\\times3$ и функцией активации relu\n",
    "1. Слой линеаризации\n",
    "1. Полносвязный слой с количеством нейронов равным количеству выходных классов с функцией активации softmax\n",
    "\n",
    "В качестве градиетного спуска выступает SGD, размер батча определяется при обучении модели.\n",
    "Для вычисления функции потерь используется кросс-энтропия по категориям с автоматическим OneHot кодированием.\n",
    "Метрика точности соответствует $accuracy(\\tilde{y}, y) = \\frac{1}{N} \\sum_{n=0}^{N-1} 1(\\tilde{y}_n = y_n)$.\n",
    "При этом точное название метрики `sparse_categorical_accuracy`, которое можно сократить до `accuracy`, так как метрика выбирается согласно функции потерь.\n",
    "\n",
    "Запустите нейросеть.\n",
    "Итоговая точность должна получится около 92% или больше."
   ]
  },
  {
   "cell_type": "code",
   "execution_count": null,
   "id": "8d8c1a02-71bd-467c-a397-b55e79426b29",
   "metadata": {},
   "outputs": [],
   "source": [
    "%%time\n",
    "\n",
    "def create_model1(input_x, input_y):\n",
    "    inputs = tf.keras.layers.Input(shape=input_x.shape[1:])\n",
    "    x = tf.keras.layers.Conv2D(filters=16, kernel_size=3, padding='same', activation='relu')(inputs)\n",
    "    x = tf.keras.layers.MaxPooling2D(pool_size=2, padding='valid')(x)\n",
    "    x = tf.keras.layers.Conv2D(filters=32, kernel_size=3, padding='same', activation='relu')(x)\n",
    "    x = tf.keras.layers.MaxPooling2D(pool_size=2, padding='valid')(x)\n",
    "    x = tf.keras.layers.Conv2D(filters=64, kernel_size=3, padding='same', activation='relu')(x)\n",
    "    x = tf.keras.layers.Flatten()(x)\n",
    "    outputs = tf.keras.layers.Dense(len(np.unique(input_y)), activation='softmax')(x)\n",
    "    \n",
    "    model = tf.keras.Model(inputs, outputs)\n",
    "    model.compile(optimizer='sgd', loss='sparse_categorical_crossentropy', metrics=['accuracy'])\n",
    "    model.summary()\n",
    "    return model\n",
    "\n",
    "model = create_model1(x_train, y_train)\n",
    "model.fit(x_train, y_train, batch_size=128, epochs=3, validation_data=(x_test, y_test), verbose=True)\n",
    "score = model.evaluate(x_test, y_test, verbose=0)\n",
    "print(dict(zip(model.metrics_names, score)))\n",
    "\n",
    "y_pred = model(x_test)\n",
    "print('y_test', y_test[:2], 'y_pred', y_pred[:2])"
   ]
  },
  {
   "cell_type": "markdown",
   "id": "02485339-588f-4332-a3fb-2b10af5cf8f0",
   "metadata": {},
   "source": [
    "**Вопросы**:\n",
    "\n",
    "1. Сколько всего параметров у нейронной сети?\n",
    "1. Сколько всего участвует в обучении векторов из обучающей выборки?\n",
    "1. Какая точность достигнута?\n",
    "1. В обучающей выборке в качестве классов используются числа от 0 до 9.\n",
    "Что получается на выходе у нейронной сети?\n",
    "Как выходные значения нейронной сети преобразовать в номер класса?"
   ]
  },
  {
   "cell_type": "markdown",
   "id": "a15f01e6-4351-4a96-afdd-f1c01e64cfcf",
   "metadata": {},
   "source": [
    "**Ответы**:\n",
    "\n",
    "1. ...\n",
    "1. ..."
   ]
  },
  {
   "cell_type": "markdown",
   "id": "17232f8c-606f-4eec-b172-8b365f41197f",
   "metadata": {},
   "source": [
    "## Задание №2\n",
    "\n",
    "Попробуйте увеличить точность классификации, например, добавив после каждого свёрточного слоя нормализацию (BatchNormalization) или изменив архитектуру сети.\n",
    "Объясните целесообразность произведенных изменений."
   ]
  },
  {
   "cell_type": "code",
   "execution_count": null,
   "id": "f2c9a05c-8c06-4c2e-bf10-94bacc86179d",
   "metadata": {},
   "outputs": [],
   "source": [
    "%%time\n",
    "\n",
    "def create_model2(input_x, input_y):\n",
    "    ???\n",
    "    return model\n",
    "\n",
    "model = create_model2(x_train, y_train)\n",
    "???\n",
    "score = model.evaluate(x_test, y_test, verbose=0)\n",
    "print(dict(zip(model.metrics_names, score)))"
   ]
  },
  {
   "cell_type": "markdown",
   "id": "0948204b-0f48-41b6-aabd-7023bb4d6e9c",
   "metadata": {},
   "source": [
    "**Вопросы:**\n",
    "\n",
    "1. Почему появились необучаемые параметры (non-trainable)?\n",
    "1. Распишите, какие и сколько параметров входят в BatchNormalization. Для этого воспользуйтесь переменной `layers` и методом `get_weights`.\n",
    "1. Сколько параметров используется на каждом batch normalization слое?\n",
    "1. Какая итоговая точность получилась? Стала ли она больше?\n",
    "1. Как введение новых слоёв повлияло на вермя обучения сети?\n",
    "1. Попробуйте поставить BatchNormalization слои перед/после MaxPooling. Как меняются характеристики и время обучения?"
   ]
  },
  {
   "cell_type": "markdown",
   "id": "f4de33b7-0a67-4e51-938c-628587c8fdaa",
   "metadata": {},
   "source": [
    "**Ответы:**\n",
    "\n",
    "1. ...\n",
    "1. ..."
   ]
  },
  {
   "cell_type": "markdown",
   "id": "9288c0d1-d05e-4bc1-b2d6-f14a79ce0a53",
   "metadata": {},
   "source": [
    "## Задание №3\n",
    "\n",
    "Визуализируйте результат воздействия весов последней сети с первого свёрточного слоя на одно из тестовых изображений."
   ]
  },
  {
   "cell_type": "code",
   "execution_count": null,
   "id": "b3f4cae5-d7a0-4b59-88bb-a300b1e43258",
   "metadata": {},
   "outputs": [],
   "source": [
    "layer = model.get_layer(index=1)\n",
    "p = layer(x_train[10:11])\n",
    "\n",
    "plt.grid(False)\n",
    "plt.imshow(x_train[10, :, :, 0], cmap='gray')\n",
    "\n",
    "fig, axes = plt.subplots(4, 4, figsize=(4*4, 4*4))\n",
    "for row, ax_rows in enumerate(axes):\n",
    "    for col, ax in enumerate(ax_rows):\n",
    "        ax.imshow(???)\n",
    "        ax.grid(False)"
   ]
  },
  {
   "cell_type": "markdown",
   "id": "f0759779-d11f-46b1-a96b-21956a6e2a2d",
   "metadata": {},
   "source": [
    "**Вопросы:**\n",
    "\n",
    "1. На что похожи отклики с первого слоя?"
   ]
  },
  {
   "cell_type": "markdown",
   "id": "f22fa65f-3e37-4e2b-91f3-39944ab5d62e",
   "metadata": {},
   "source": [
    "**Ответы:**\n",
    "\n",
    "1. ..."
   ]
  },
  {
   "cell_type": "markdown",
   "id": "c0f6f050-a53e-44e9-8d6d-9af0ccfbd598",
   "metadata": {},
   "source": [
    "## Задание №4\n",
    "\n",
    "Подготовьте датасет [cifar10](https://keras.io/api/datasets/) аналогично предыдущему датасету.\n",
    "Во время первого запуска будет скачиваться архив (около 170 МБ).\n",
    "Он будет закеширован локально, поэтому последующие загрузки этого датасета будут занимать меньше времени.\n",
    "\n",
    "Покажите 4 произвольных изображения из обучающей выборки."
   ]
  },
  {
   "cell_type": "code",
   "execution_count": null,
   "id": "875eeb8a-315c-4be3-8b79-7a0dbc559b5b",
   "metadata": {},
   "outputs": [],
   "source": [
    "(x_train, y_train), (x_test, y_test) = tf.keras.datasets.cifar10.load_data()\n",
    "\n",
    "???\n",
    "\n",
    "print(x_train.shape, x_train.dtype, y_train.shape, y_train.dtype, y_test.shape)\n",
    "\n",
    "assert x_train.dtype == np.float32 and x_test.dtype == np.float32, 'Неправильный тип входных данных'\n",
    "assert (x_train <= 1).all() and (x_test <= 1).all(), 'Данные не отмасштабированы'\n",
    "\n",
    "imshow ???"
   ]
  },
  {
   "cell_type": "markdown",
   "id": "aa679693-f4d5-493b-ac73-3533f3a9493f",
   "metadata": {},
   "source": [
    "Постройте сеть с такой архитектурой:\n",
    "```\n",
    "convolution2dLayer: 32, 3x3, 'Padding'=1\n",
    "reluLayer\n",
    "maxPooling2dLayer: 2, 'Padding'=0\n",
    "\n",
    "convolution2dLayer: 32, 3x3, 'Padding'=1\n",
    "reluLayer\n",
    "maxPooling2dLayer: 2, 'Padding'=0\n",
    "       \n",
    "convolution2dLayer: 64, 3, 'Padding'=1\n",
    "reluLayer\n",
    "maxPooling2dLayer: 2, 'Padding'=0\n",
    "\n",
    "fullyConnectedLayer: 128\n",
    "reluLayer \n",
    "fullyConnectedLayer: num_classes\n",
    "softmaxLayer\n",
    "```\n",
    "\n",
    "Изображения цветные, поэтому для первого слоя с конволюцией укажите параметр `data_format='channels_last'`.\n",
    "При обучении используйте 15 эпох, размер батча 128, оптимизатор градиентного спуска - SGD.\n",
    "Также можно использовать любую другую архитектуру, объяснив целесообразность её применения.\n",
    "Протестируйте работу данной сети.\n",
    "Время обучения сети 5-10 минут."
   ]
  },
  {
   "cell_type": "code",
   "execution_count": null,
   "id": "faf79a49-540f-4df0-a77a-d5c3697e9af7",
   "metadata": {},
   "outputs": [],
   "source": [
    "%%time\n",
    "\n",
    "def create_model4(input_x, input_y):\n",
    "    ???\n",
    "    return model\n",
    "\n",
    "???\n",
    "score = ???\n",
    "print(dict(zip(model.metrics_names, score)))"
   ]
  },
  {
   "cell_type": "markdown",
   "id": "21fb3c46-760a-4604-81be-cf95b4991afd",
   "metadata": {},
   "source": [
    "**Вопросы:**\n",
    "\n",
    "1. Какую точность классификации удалось получить?\n",
    "1. Какие слои не имеют параметров обучения? Почему?\n",
    "1. Какую размерность имеют входные изображения?"
   ]
  },
  {
   "cell_type": "markdown",
   "id": "557af9bf-f856-47bb-8779-a8061354768e",
   "metadata": {},
   "source": [
    "**Ответы:**\n",
    "\n",
    "1. ...\n",
    "1. ..."
   ]
  },
  {
   "cell_type": "markdown",
   "id": "ea3c5539-5262-47c6-a826-27cd38aed25e",
   "metadata": {},
   "source": [
    "## Задание №5\n",
    "\n",
    "Попробуйте улучшить точность классификации, добавив нормализацию после свёрточных и полносвязных слоёв."
   ]
  },
  {
   "cell_type": "code",
   "execution_count": null,
   "id": "b1e02226-9d21-422d-9222-4720f5b40ae3",
   "metadata": {},
   "outputs": [],
   "source": [
    "%%time\n",
    "\n",
    "def create_model5(input_x, input_y):\n",
    "    ???\n",
    "    return model\n",
    "\n",
    "???\n",
    "print(dict(zip(model.metrics_names, score)))"
   ]
  },
  {
   "cell_type": "markdown",
   "id": "cf599488-8def-4da3-b1ce-1bb04ef391e6",
   "metadata": {},
   "source": [
    "**Вопросы:**\n",
    "\n",
    "1. Удалось ли увеличить точность классификации введением новых слоёв?\n",
    "1. Как изменилось время обучения сети? (Обратите внимание на `Wall time`, `total`, а также на время обучения каждой эпохи)"
   ]
  },
  {
   "cell_type": "markdown",
   "id": "79d69eb6-f482-45d2-a98a-d0150232bc8f",
   "metadata": {},
   "source": [
    "**Ответы:**\n",
    "\n",
    "1. ...\n",
    "1. ..."
   ]
  },
  {
   "cell_type": "markdown",
   "id": "1f1aebb6-0c46-40e4-8038-5ef26ab23148",
   "metadata": {},
   "source": [
    "## Задание №6\n",
    "\n",
    "Попробуйте добавить слой dropout `tf.keras.layers.Dropout(<probability>)` после полносвязного слоя, подобрав оптимальную на Ваш взгляд вероятность удаления нейронов.\n",
    "Поэкспериментируйте с добавлением слоёв BatchNormalization и без них."
   ]
  },
  {
   "cell_type": "code",
   "execution_count": null,
   "id": "adfc2164-e004-4f90-ae89-6718229f0345",
   "metadata": {},
   "outputs": [],
   "source": [
    "%%time\n",
    "\n",
    "def create_model6(input_x, input_y):\n",
    "    ???\n",
    "    return model\n",
    "\n",
    "???\n",
    "print(dict(zip(???)))"
   ]
  },
  {
   "cell_type": "markdown",
   "id": "5242db5e-3a66-432e-b2b2-826081cbab7e",
   "metadata": {},
   "source": [
    "**Вопросы:**\n",
    "\n",
    "1. Удалось ли увеличить точность классификации?\n",
    "1. Что влияет больше на увеличение точности: слой Dropout или BatchNormalization?\n",
    "1. Как изменилось время обучения?"
   ]
  },
  {
   "cell_type": "markdown",
   "id": "bc745752-004c-430b-9dd2-42b1adda677f",
   "metadata": {},
   "source": [
    "**Ответы:**\n",
    "\n",
    "1. ...\n",
    "1. ..."
   ]
  }
 ],
 "metadata": {
  "kernelspec": {
   "display_name": "Python3",
   "language": "python",
   "name": "python3"
  },
  "language_info": {
   "codemirror_mode": {
    "name": "ipython",
    "version": 3
   },
   "file_extension": ".py",
   "mimetype": "text/x-python",
   "name": "python",
   "nbconvert_exporter": "python",
   "pygments_lexer": "ipython3",
   "version": "3.9.6"
  }
 },
 "nbformat": 4,
 "nbformat_minor": 5
}
