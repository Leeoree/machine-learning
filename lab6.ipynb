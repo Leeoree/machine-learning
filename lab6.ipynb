{
 "cells": [
  {
   "cell_type": "markdown",
   "id": "e48b40ca-4d0c-4200-b001-c138ab731eb0",
   "metadata": {},
   "source": [
    "# Лабораторная работа №6. Машины опорных векторов и ядра скалярного произведения\n",
    "\n",
    "В данной лабораторной работе рассматривается использование машин опорных векторов для решения задач классификации и регрессии."
   ]
  },
  {
   "cell_type": "code",
   "execution_count": null,
   "id": "1a443278-91f3-4443-ae7c-2e602c27e767",
   "metadata": {},
   "outputs": [],
   "source": [
    "import numpy as np\n",
    "import sklearn as sk\n",
    "import sklearn.datasets\n",
    "import sklearn.model_selection\n",
    "import sklearn.svm \n",
    "import matplotlib as mpl\n",
    "import matplotlib.pyplot as plt\n",
    "\n",
    "mpl.rcParams['axes.grid'] = True\n",
    "plt.rcParams['figure.constrained_layout.use'] = True"
   ]
  },
  {
   "cell_type": "markdown",
   "id": "d5ce49e8-ba1d-4803-91f7-f2f624ff8ba0",
   "metadata": {},
   "source": [
    "## Задание №1\n",
    "\n",
    "Подготовьте обучающую и тестовую выборки.\n",
    "Значение `random_state` соответствует номеру варианта.\n",
    "Размер тестовой выборки должен составлять 20% от исходной выборки."
   ]
  },
  {
   "cell_type": "code",
   "execution_count": null,
   "id": "90d53ac7-e8c8-4888-b7e3-6c8e581004af",
   "metadata": {},
   "outputs": [],
   "source": [
    "x, y = sk.datasets.make_classification(n_samples=1000, n_features=2, n_informative=2, n_redundant=0, n_clusters_per_class=2, random_state=???)\n",
    "x_train, x_test, y_train, y_test = ??? random_state=42\n",
    "\n",
    "fig, (ax0, ax1) = plt.subplots(1, 2, figsize=(2*5, 4))\n",
    "ax0.scatter(???)\n",
    "ax0.set(xlabel='x0', ylabel='x1', title='Обучающая выборка')\n",
    "ax1???\n",
    "\n",
    "print(x_train.shape, y_train.shape)"
   ]
  },
  {
   "cell_type": "markdown",
   "id": "2e5ac97d-5d12-4a50-ba24-fc69ac370fa2",
   "metadata": {},
   "source": [
    "## Задание №2\n",
    "\n",
    "Рассмотрим задачу классификации с использованием машин опорных векторов.\n",
    "Визуализируйте разделение пространства признаков для следующих ядер:\n",
    "\n",
    "* линейное,\n",
    "* полиномиальные (порядков 2-5),\n",
    "* радиальное RBF.\n",
    "\n",
    "Для каждого из ядер найдите точность (accuracy) для обучающей и тестовой выборок, а также число используемых опорных векторов (сложность модели).\n",
    "На основе полученных значений точности (accuracy) выберите наилучшую модель.\n",
    "Для полиномиальных ядер в отчет включите только ту модель, которая дает наилучший результат.\n",
    "Число опорных векторов - это сумма опорных векторов всех классов в переменной `n_support_`."
   ]
  },
  {
   "cell_type": "code",
   "execution_count": null,
   "id": "c869213a-7fa3-4d91-8ffa-6df003528703",
   "metadata": {},
   "outputs": [],
   "source": [
    "x_min, x_max = x_test[:, 0].min() - 1, x_test[:, 0].max() + 1\n",
    "y_min, y_max = x_test[:, 1].min() - 1, x_test[:, 1].max() + 1\n",
    "xx, yy = np.meshgrid(np.arange(x_min, x_max, 0.05), np.arange(y_min, y_max, 0.05))\n",
    "\n",
    "models = {'linear': sk.svm.SVC(kernel=???), ???}\n",
    "for p in range(2, 6):\n",
    "#for p in [???]:\n",
    "    models[f'poly{p}'] = ???\n",
    "\n",
    "_, axes = plt.subplots(1, len(models), figsize=(len(models)*5, 4))\n",
    "for (name, model), ax in zip(models.items(), axes):\n",
    "    model???\n",
    "    Z = model.predict(np.c_[xx.ravel(), yy.ravel(), np.zeros((xx.ravel().shape[0], x_test.shape[1] - 2))])\n",
    "    ax.contourf(xx, yy, Z.reshape(xx.shape), cmap=plt.cm.Paired, alpha=0.5)\n",
    "    ax.scatter(???)\n",
    "    ax.set(xlabel='x0', ylabel='x1', title=name)\n",
    "    \n",
    "    print(name, 'train score:', model.score(x_train, y_train), 'test score:', model.score(x_test, y_test), 'n_support:', ???)"
   ]
  },
  {
   "cell_type": "markdown",
   "id": "fb8236d7-431d-4aee-ae8c-ab2a4f15b809",
   "metadata": {},
   "source": [
    "**Вопросы:**\n",
    "\n",
    "1. Какая модель оказалась лучшей по точности классификации?\n",
    "1. Какая модель использует наименьшее число опорных векторов?\n",
    "1. Что можно сказать о влиянии числа опорных векторов на качество модели?"
   ]
  },
  {
   "cell_type": "markdown",
   "id": "41c311ed-56f8-4e62-8a99-f484d586c45f",
   "metadata": {},
   "source": [
    "**Ответы:**\n",
    "\n",
    "1. ...\n",
    "1. ..."
   ]
  },
  {
   "cell_type": "markdown",
   "id": "502a0a06-cce2-4ade-afce-fff6492c8be8",
   "metadata": {},
   "source": [
    "## Задание №3\n",
    "\n",
    "Пусть задача минимизации функции стоимости имеет вид\n",
    "$$\n",
    "\\frac{1}{2} \\lVert\\mathbf{w}\\rVert^2 + C \\sum_{i=0}^{N-1} \\xi_i \\rightarrow \\min_{w,\\xi},\n",
    "$$\n",
    "а преобразование пространства признаков осуществляется ядром\n",
    "$$\n",
    "RBF(x, y) = \\exp\\left( -\\frac{\\lVert x - y \\rVert^2}{\\sigma^2} \\right),\n",
    "$$\n",
    "где $C > 0$, $\\sigma > 0$.\n",
    "\n",
    "**Замечания:**\n",
    "\n",
    "* Оптимальные параметры следует выбирать по наилучшему значению на тестовой выборке.\n",
    "Если в исследуемой зависимости наблюдается несколько пиков с наилучшим значением, то стоит принять в рассмотрение также результат на обучающей выборке.\n",
    "* Параметру $\\sigma$ в `SVC` соответствует параметр `gamma`.\n",
    "* Выбирайте диапазоны параметроы $C$ и $\\sigma$ такими, чтобы было хорошо видно поведение зависимостей на всех графиках.\n",
    "* Для генерации параметров $C$ используйте `np.linspace`, для $\\sigma$ - `np.logspace`.\n",
    "* Ширина зазора - это квадратичная норма от результата `desision_function` (помните, что в `numpy` функция `np.linalg.norm` выдаёт ненормированную норму).\n",
    "\n",
    "### Задание №3.1\n",
    "\n",
    "* Постройте графики зависимостей числа опорных векторов и ширины зазора от параметра регуляризации $C$, приняв $\\sigma$ равным единице.\n",
    "* Постройте графики зависимостей точности (accuracy) от параметра $C$ для обучающей и тестовой выборок, на основе чего выберите оптимальный параметр $C$."
   ]
  },
  {
   "cell_type": "code",
   "execution_count": null,
   "id": "b957a543-334d-4f4c-8429-de04004ed119",
   "metadata": {},
   "outputs": [],
   "source": [
    "%%time\n",
    "\n",
    "param_C = np.linspace(???)\n",
    "metrics = {'distance': [], 'count': [], 'train': [], 'test': []}\n",
    "for C in param_C:\n",
    "    model = sk.svm.SVC(???, decision_function_shape='ovo')\n",
    "    ???\n",
    "    metrics['distance'].append(???)\n",
    "    ???\n",
    "\n",
    "_, (ax0, ax1, ax2) = plt.subplots(1, 3, figsize=(3*5, 4))\n",
    "???\n",
    "\n",
    "C_opt = param_C[???] np,flatnonzero, np.amax, np.argmax\n",
    "print(f\"Optimal C = {C_opt}, test accuracy = {???}, train accuracy = {???}\")"
   ]
  },
  {
   "cell_type": "markdown",
   "id": "2bed64de-9438-4a34-9014-2215d2dca5e9",
   "metadata": {},
   "source": [
    "**Вопросы:**\n",
    "\n",
    "1. Какое значение принимает оптимальный параметр регуляризации `C`?\n",
    "1. Как ведёт себя ширина зазора при увеличении параметра `C`?\n",
    "1. Что происходит с количеством опорных векторов при увеличении параметра `C`?"
   ]
  },
  {
   "cell_type": "markdown",
   "id": "cde8b3f2-6a0d-4bc7-916d-958a4f0be448",
   "metadata": {},
   "source": [
    "**Ответы:**\n",
    "\n",
    "1. ...\n",
    "1. ..."
   ]
  },
  {
   "cell_type": "markdown",
   "id": "3ceea7dc-a28e-4075-b5ee-da3fe100055e",
   "metadata": {},
   "source": [
    "### Задание №3.2\n",
    "\n",
    "* Постройте графики зависимостей числа опорных векторов и ширины зазора от параметра $\\sigma$, используя найденное оптимальное $C$.\n",
    "* Постройте графики зависимостей точности (accuracy) от параметра $\\sigma$ для обучающей и тестовой выборок, на основе чего выберите оптимальный параметр $\\sigma$.\n",
    "* Для параметра $\\sigma$ используйте логарифмический масштаб."
   ]
  },
  {
   "cell_type": "code",
   "execution_count": null,
   "id": "da35fab2-e8be-460e-a730-e3ce68250a9d",
   "metadata": {},
   "outputs": [],
   "source": [
    "%%time\n",
    "\n",
    "param_sigma = np.logspace(???)\n",
    "metrics = {'distance': [], 'count': [], 'train': [], 'test': []}\n",
    "for sigma in param_sigma:\n",
    "    model = ???\n",
    "    metrics['distance']???\n",
    "\n",
    "???\n",
    "ax0.semilogx(???)\n",
    "ax0.set(xlabel='$\\log_{10}(\\sigma)$', ylabel='Расстояние', title='Ширина зазора')\n",
    "???\n",
    "ax2.legend()\n",
    "\n",
    "sigma_opt = param_sigma[???]\n",
    "print(f\"Optimal sigma = {sigma_opt}, test accuracy = {???}, train accuracy = {???}\")"
   ]
  },
  {
   "cell_type": "markdown",
   "id": "356374f3-07aa-413e-9a51-a37071dc58dd",
   "metadata": {},
   "source": [
    "**Вопросы:**\n",
    "\n",
    "1. Как ведёт себя значение ширины зазора при изменении значения параметра $\\sigma$?\n",
    "1. Как изменяется число опорных векторов при уменьшении/увеличении значения парметра $\\sigma$?\n",
    "1. Удалось ли улучшить результаты классификации?"
   ]
  },
  {
   "cell_type": "markdown",
   "id": "1d44662f-3574-48b8-84f2-f5c46f4d4ba8",
   "metadata": {},
   "source": [
    "**Ответы:**\n",
    "\n",
    "1. ...\n",
    "1. ..."
   ]
  },
  {
   "cell_type": "markdown",
   "id": "46531bbf-fd3e-4e42-9955-dd996c5f2a21",
   "metadata": {},
   "source": [
    "### Задание №3.3\n",
    "\n",
    "Визуализируйте разделение пространства признаков для наилучшей модели."
   ]
  },
  {
   "cell_type": "code",
   "execution_count": null,
   "id": "dad71f88-1deb-4bd8-92df-b88b9e8c219e",
   "metadata": {},
   "outputs": [],
   "source": [
    "model = sk.svm.SVC(kernel='rbf', C=C_opt, gamma=sigma_opt)\n",
    "???\n",
    "Z = model.predict(np.c_[xx.ravel(), yy.ravel(), np.zeros((xx.ravel().shape[0], x_test.shape[1] - 2))])\n",
    "plt.contourf(xx, yy, Z.reshape(xx.shape), cmap=plt.cm.Paired, alpha=0.5)\n",
    "plt.scatter(???)\n",
    "plt.xlabel('x0')\n",
    "plt.ylabel('x1')"
   ]
  },
  {
   "cell_type": "markdown",
   "id": "8ae6128c-fb05-4b5a-a0d2-e6d5aff9108f",
   "metadata": {},
   "source": [
    "**Вопросы:**\n",
    "\n",
    "* Удалось ли увеличить качество модели (со скольких до скольких) по сравнению с предыдущим заданием?\n",
    "Как при этом изменилась форма разделяющей поверхности? \n",
    "* Сделайте вывод о влиянии параметров $C$ и $\\sigma$ на сложность модели и ширину зазора."
   ]
  },
  {
   "cell_type": "markdown",
   "id": "8a7e64a5-4a3b-4f6b-acf2-cced21817237",
   "metadata": {},
   "source": [
    "**Ответы:**\n",
    "\n",
    "1. ...\n",
    "1. ..."
   ]
  },
  {
   "cell_type": "markdown",
   "id": "5be688cf-cd1f-4a20-b22d-844ae81dd999",
   "metadata": {},
   "source": [
    "## Задание №4\n",
    "\n",
    "Подготовьте датасет с нелинейными данными. Координата `x` генериурется как отрезок $[-1; 1]$ в количестве 100 отсчётов, `y` генерируется согласно варианту.\n",
    "Разделите датасет на обучающую и тестовую выборки.\n",
    "Размер тестовой выборки следует выбрать равным 20% от размера всей выборки.\n",
    "\n",
    "Функция для генерации `y` компоненты датасета (выбирается согласно формуле `1 + (<порядковый номер> % 2)`:\n",
    "\n",
    "1. `np.arctan(A * x - 0.23) + 0.1`\n",
    "1. `np.sin(A * x + 0.1) - 0.43`\n",
    "\n",
    "Число `A` вычисляется по формуле `4 + (<порядковый номер> % 5)`."
   ]
  },
  {
   "cell_type": "code",
   "execution_count": null,
   "id": "685e9dc0-c33d-41e7-aef2-2cdb10c17e54",
   "metadata": {},
   "outputs": [],
   "source": [
    "x = np.linspace(???)\n",
    "y = ???\n",
    "x_train, x_test, y_train, y_test = sk.model_selection.train_test_split(np.expand_dims(x, -1), y, test_size=???, random_state=78)\n",
    "\n",
    "fig, (ax0, ax1) = plt.subplots(1, 2, figsize=(2*6, 4))\n",
    "ax0.plot(x_train, y_train, 'o')\n",
    "ax0.set(xlabel='Номер отсчёта', ylabel='y', title='Обучающая выборка')\n",
    "???\n",
    "print(x_train.shape, y_train.shape)"
   ]
  },
  {
   "cell_type": "markdown",
   "id": "c8d1d65b-0f07-4fc9-a42c-28d3604e06ea",
   "metadata": {},
   "source": [
    "## Задание №5\n",
    "\n",
    "Рассмотрим задачу регрессии с использованием машин опорных векторов (`sk.svm.SVR`).\n",
    "Постройте графики, на которых изображены истинные и предсказанные значения для следующих ядер:\n",
    "\n",
    "* линейное,\n",
    "* полиномиальные (порядков 2-10),\n",
    "* радиальное RBF.\n",
    "\n",
    "Для каждого из ядер найдите MSE-ошибки на обучающей и тестовой выборках.\n",
    "На основе полученных значений MSE выберите наилучшую модель.\n",
    "Для полиномиальных ядер в отчет включите только ту модель, которая дает наилучший результат."
   ]
  },
  {
   "cell_type": "code",
   "execution_count": null,
   "id": "1dddb066-46cd-470b-bee3-b1c8de101378",
   "metadata": {},
   "outputs": [],
   "source": [
    "models = {'linear': sk.svm.SVR(kernel=???), ???}\n",
    "for i in range(2, 11):\n",
    "#for i in [???]:\n",
    "    models[f'poly{i}'] = ???\n",
    "\n",
    "fig, axes = plt.subplots(1, len(models), figsize=(len(models)*5, 4))\n",
    "for (name, model), ax in zip(models.items(), axes):\n",
    "    ???\n",
    "    ax.plot(x_test, y_test, 'o', label='true')\n",
    "    ax.plot(???, 's', label='predicted')\n",
    "    ax.set(xlabel='Номер отсчёта', ylabel='y', title=name)\n",
    "    ax.legend()\n",
    "    \n",
    "    err_train = ???\n",
    "    err_test = ???\n",
    "    print(name, 'train MSE:', err_train, 'test MES:', err_test, 'n_support:', ???)"
   ]
  },
  {
   "cell_type": "markdown",
   "id": "59a6fb42-3ffa-420f-a821-65948d42a2f3",
   "metadata": {},
   "source": [
    "**Вопросы:**\n",
    "\n",
    "1. Насколько модели показывают правдоподобные результаты?\n",
    "1. Какая модель даёт меньшую ошибку MSE?\n",
    "1. Какая модель использует меньшее количество опорных векторов?"
   ]
  },
  {
   "cell_type": "markdown",
   "id": "93c0b185-7a0b-4223-b1d0-555a3eb66ecc",
   "metadata": {},
   "source": [
    "**Ответы:**\n",
    "\n",
    "1. ...\n",
    "1. ..."
   ]
  },
  {
   "cell_type": "markdown",
   "id": "6e04aa1d-126b-483f-a188-39a1f2ac7a00",
   "metadata": {},
   "source": [
    "## Задание №6\n",
    "\n",
    "Попробуйте улучшить результат, полученный оптимальной моделью из предыдущего задания.\n",
    "Для этого следует подобрать параметры регуляризации $C$ и $\\varepsilon$ одновременно с помощью функции\n",
    "[GridSearchCV](https://scikit-learn.org/stable/modules/generated/sklearn.model_selection.GridSearchCV.html).\n",
    "При построении решётки параметров для `C` используйте `np.linspace`, для `epsilon` - `np.logspace`.\n",
    "Можно подбирать диапазоны поэтапно: от широкого, но с большим шагом, до более маленьго диапазона с меньшим шагом.\n",
    "Найти самый оптимальный минимум не требуется.\n",
    "Вполне можно остановиться на MSE $\\approx 10^{-5}$.\n",
    "\n",
    "### Задание №6.1\n",
    "\n",
    "Постройте график, на котором изображены истинные и предсказанные значения для наилучшей модели."
   ]
  },
  {
   "cell_type": "code",
   "execution_count": null,
   "id": "6e3ce10b-6b7e-4fff-914d-d1d678a63b0a",
   "metadata": {},
   "outputs": [],
   "source": [
    "%%time\n",
    "\n",
    "param_grid = {'C': np.linspace(???), 'epsilon': np.logspace(???)}\n",
    "model = sk.model_selection.GridSearchCV(sk.svm.SVR(kernel='rbf'), param_grid, n_jobs=-1)\n",
    "model.fit(x_train, y_train)\n",
    "print(model.best_params_)\n",
    "\n",
    "y_pred = model.predict(x_test)\n",
    "plt.plot(???, 'o', label='true')\n",
    "plt.plot(???, 's', label='predicted')\n",
    "plt.legend()\n",
    "print(\"MSE =\", ???, \"vectors =\", ??? model.best_estimator_.???)"
   ]
  },
  {
   "cell_type": "markdown",
   "id": "c9df675f-9e7d-4ee0-898f-8001bb0c12f1",
   "metadata": {},
   "source": [
    "**Вопросы:**\n",
    "\n",
    "1. Удалось ли увеличить качество модели по сравнению с предыдущим заданием? Насколько?\n",
    "1. Сравние количество опорных векторов в полученной модели и в прошлой.\n",
    "1. Как изменился график предсказанной зависимости?"
   ]
  },
  {
   "cell_type": "markdown",
   "id": "40a4476a-05b0-49aa-b9d8-66b869d1f932",
   "metadata": {},
   "source": [
    "**Ответы:**\n",
    "\n",
    "1. ...\n",
    "1. ..."
   ]
  },
  {
   "cell_type": "markdown",
   "id": "7dcb832a-a8cc-42a1-8d0c-df751906a2bd",
   "metadata": {},
   "source": [
    "### Задание №6.2\n",
    "\n",
    "Постройте графики зависимостей числа опорных векторов от $C$ и от $\\varepsilon$.\n",
    "В качестве свободных параметров используйте те, которые нашли на предыдущем шаге."
   ]
  },
  {
   "cell_type": "code",
   "execution_count": null,
   "id": "80d7b6c5-df92-4513-a20b-6c725c1a4da6",
   "metadata": {},
   "outputs": [],
   "source": [
    "%%time\n",
    "\n",
    "_, (ax0, ax1) = plt.subplots(1, 2, figsize=(2*6, 4))\n",
    "\n",
    "n_support = []\n",
    "for C in param_grid['C']:\n",
    "    m = sk.svm.SVR(???, epsilon=model.best_params_['epsilon'])\n",
    "    ???\n",
    "\n",
    "ax0.plot(param_grid['C'], n_support)\n",
    "ax0.set(xlabel='C', ylabel='Количество', title='Количество векторов от C')\n",
    "\n",
    "n_support = []\n",
    "for eps in param_grid['epsilon']:\n",
    "    ???\n",
    "\n",
    "???"
   ]
  },
  {
   "cell_type": "markdown",
   "id": "8d3cb262-359f-45e6-806a-c9a3aeca0e2a",
   "metadata": {},
   "source": [
    "**Вопросы:**\n",
    "\n",
    "1. Как влияют параметры регуляризации $C$ и $\\varepsilon$ на сложность модели?"
   ]
  },
  {
   "cell_type": "markdown",
   "id": "0d603e7d-acf1-4303-a85d-ec58d15d4095",
   "metadata": {},
   "source": [
    "**Ответы:**\n",
    "\n",
    "1. ..."
   ]
  }
 ],
 "metadata": {
  "kernelspec": {
   "display_name": "Python3",
   "language": "python",
   "name": "python3"
  },
  "language_info": {
   "codemirror_mode": {
    "name": "ipython",
    "version": 3
   },
   "file_extension": ".py",
   "mimetype": "text/x-python",
   "name": "python",
   "nbconvert_exporter": "python",
   "pygments_lexer": "ipython3",
   "version": "3.9.6"
  }
 },
 "nbformat": 4,
 "nbformat_minor": 5
}
